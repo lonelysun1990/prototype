{
 "cells": [
  {
   "cell_type": "code",
   "execution_count": 2,
   "id": "0d65238a-c6ff-46d1-af01-55a7c6899e40",
   "metadata": {},
   "outputs": [],
   "source": [
    "import numpy as np"
   ]
  },
  {
   "cell_type": "code",
   "execution_count": 3,
   "id": "e996fdbf-6060-47e2-b678-6cfafdf33bac",
   "metadata": {},
   "outputs": [],
   "source": [
    "a = np.random.normal(0, 1, 10)"
   ]
  },
  {
   "cell_type": "code",
   "execution_count": 4,
   "id": "02390505",
   "metadata": {},
   "outputs": [
    {
     "data": {
      "text/plain": [
       "array([-0.16127303, -1.07487541,  0.8397888 , -1.06864695, -1.01961662,\n",
       "       -1.27832447, -0.03243293, -1.03792612, -0.10972366, -1.00093867])"
      ]
     },
     "execution_count": 4,
     "metadata": {},
     "output_type": "execute_result"
    }
   ],
   "source": [
    "a"
   ]
  },
  {
   "cell_type": "code",
   "execution_count": null,
   "id": "d2c0de06",
   "metadata": {},
   "outputs": [],
   "source": []
  }
 ],
 "metadata": {
  "kernelspec": {
   "display_name": "“prototype”",
   "language": "python",
   "name": "prototype"
  },
  "language_info": {
   "codemirror_mode": {
    "name": "ipython",
    "version": 3
   },
   "file_extension": ".py",
   "mimetype": "text/x-python",
   "name": "python",
   "nbconvert_exporter": "python",
   "pygments_lexer": "ipython3",
   "version": "3.12.7"
  }
 },
 "nbformat": 4,
 "nbformat_minor": 5
}
