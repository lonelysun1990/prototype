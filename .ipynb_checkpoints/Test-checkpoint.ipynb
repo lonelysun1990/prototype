{
 "cells": [
  {
   "cell_type": "code",
   "execution_count": 1,
   "id": "0d65238a-c6ff-46d1-af01-55a7c6899e40",
   "metadata": {},
   "outputs": [],
   "source": [
    "import numpy as np"
   ]
  },
  {
   "cell_type": "code",
   "execution_count": null,
   "id": "e996fdbf-6060-47e2-b678-6cfafdf33bac",
   "metadata": {},
   "outputs": [],
   "source": []
  }
 ],
 "metadata": {
  "kernelspec": {
   "display_name": "“prototype”",
   "language": "python",
   "name": "prototype"
  },
  "language_info": {
   "codemirror_mode": {
    "name": "ipython",
    "version": 3
   },
   "file_extension": ".py",
   "mimetype": "text/x-python",
   "name": "python",
   "nbconvert_exporter": "python",
   "pygments_lexer": "ipython3",
   "version": "3.12.7"
  }
 },
 "nbformat": 4,
 "nbformat_minor": 5
}
